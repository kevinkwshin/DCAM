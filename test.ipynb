{
 "cells": [
  {
   "cell_type": "code",
   "execution_count": null,
   "metadata": {},
   "outputs": [],
   "source": [
    "from data import *\n",
    "from utils import *\n",
    "import pandas as pd\n",
    "import pygwalker as pyg\n",
    "\n",
    "import neurokit2 as nk\n",
    "\n",
    "train_data = np.load('/workspace/signal/PVC-NET_/dataset//mit-bih-arrhythmia-database-1.0.0_train_20230216.npy',allow_pickle=True) # B x (C) x Signal\n",
    "valid_data = np.load('/workspace/signal/PVC-NET_/dataset/mit-bih-arrhythmia-database-1.0.0_valid_20230216.npy',allow_pickle=True) # B x (C) x Signal\n",
    "test_data = np.load('/workspace/signal/PVC-NET_/dataset/mit-bih-arrhythmia-database-1.0.0_test_20230216.npy',allow_pickle=True) # B x (C) x Signal\n",
    "\n",
    "AMC_data  = np.load('/workspace/signal/PVC-NET_/dataset/AMC_PeakLabel_3rd_125Hz.npy',allow_pickle=True) # 497 samples\n",
    "CPSC2020_data  = np.load('/workspace/signal/PVC-NET_/dataset/CPSC2020_testSeg_ver2.npy',allow_pickle=True)\n",
    "CU_data  = np.load('/workspace/signal/PVC-NET_/dataset/cu-ventricular-tachyarrhythmia-database-1.0.0_testSeg.npy',allow_pickle=True)\n",
    "ESC_data  = np.load('/workspace/signal/PVC-NET_/dataset/european-st-t-database-1.0.0_testSeg.npy',allow_pickle=True)\n",
    "FANTASIA_data = np.load('/workspace/signal/PVC-NET_/dataset/fantasia-database-1.0.0_testSeg.npy', allow_pickle=True) # B x (C) x Signal\n",
    "INCART_data  = np.load('/workspace/signal/PVC-NET_/dataset/INCART_testSeg.npy',allow_pickle=True)\n",
    "NS_data = np.load('/workspace/signal/PVC-NET_/dataset/mit-bih-noise-stress-test-database-1.0.0_testSeg.npy',allow_pickle=True)\n",
    "STDB_data = np.load('/workspace/signal/PVC-NET_/dataset/mit-bih-st-change-database-1.0.0_testSeg.npy',allow_pickle=True)\n",
    "SVDB_data = np.load('/workspace/signal/PVC-NET_/dataset/mit-bih-supraventricular-arrhythmia-database-1.0.0_testSeg.npy',allow_pickle=True)"
   ]
  },
  {
   "cell_type": "code",
   "execution_count": null,
   "metadata": {},
   "outputs": [],
   "source": [
    "df = pd.read_csv(, parse_dates=['date'])\n",
    "gwalker = pyg.walk(df)"
   ]
  },
  {
   "cell_type": "code",
   "execution_count": null,
   "metadata": {},
   "outputs": [],
   "source": [
    "trainvalid_data = np.concatenate((train_data, valid_data))\n",
    "np.save('mit-bih-arrhythmia-database-1.0.0_trainvalid_2023.npy',)"
   ]
  },
  {
   "cell_type": "code",
   "execution_count": null,
   "metadata": {},
   "outputs": [],
   "source": [
    "len(train_data), len(valid_data), len(test_data), len(trainvalid_data)"
   ]
  },
  {
   "cell_type": "code",
   "execution_count": null,
   "metadata": {},
   "outputs": [],
   "source": [
    "train_data = np.concatenate((train_data,STDB_data))\n",
    "len(train_data)"
   ]
  },
  {
   "cell_type": "code",
   "execution_count": null,
   "metadata": {},
   "outputs": [],
   "source": [
    "# data = FANTASIA_data\n",
    "data = CU_data\n",
    "\n",
    "print(len(data))\n",
    "for i in range(len(data)):\n",
    "    if len(data[i]['symbol_PVC'])!=0:\n",
    "        print(i,data[i]['symbol_PVC'])"
   ]
  },
  {
   "cell_type": "code",
   "execution_count": null,
   "metadata": {},
   "outputs": [],
   "source": [
    "!pip install monai==1.0.0"
   ]
  },
  {
   "cell_type": "code",
   "execution_count": 1,
   "metadata": {},
   "outputs": [
    {
     "data": {
      "text/plain": [
       "'1.1.0'"
      ]
     },
     "execution_count": 1,
     "metadata": {},
     "output_type": "execute_result"
    }
   ],
   "source": [
    "import os\n",
    "gpus= \"3\"\n",
    "os.environ[\"CUDA_DEVICE_ORDER\"] = \"PCI_BUS_ID\"\n",
    "os.environ[\"CUDA_VISIBLE_DEVICES\"] = gpus\n",
    "os.environ[\"WANDB_API_KEY\"] = '6cd6a2f58c8f4625faaea5c73fe110edab2be208'\n",
    "\n",
    "import monai\n",
    "monai.__version__"
   ]
  },
  {
   "cell_type": "code",
   "execution_count": 112,
   "metadata": {},
   "outputs": [],
   "source": [
    "from data import * \n",
    "import torch\n",
    "import models\n",
    "from models.unet import *\n",
    "from models.densenet import *\n",
    "from models.resnet import *\n",
    "from models.efficientnet import *\n",
    "from models.ffc import *\n",
    "import monai\n",
    "\n",
    "def draw_fft_plot(signal, sample_rate,label='',show=False,log=True):\n",
    "    # Compute the FFT of the signal\n",
    "    if len(signal.shape)==1:\n",
    "        fft = torch.fft.fft(signal)\n",
    "    elif len(signal.shape)==2:\n",
    "        # get only 1st channel\n",
    "        signal = signal[0]\n",
    "        fft = torch.fft.fft(signal)\n",
    "        \n",
    "    # Compute the frequencies for the x-axis\n",
    "    freqs = torch.fft.fftfreq(len(signal), 1/sample_rate) \n",
    "    \n",
    "    # Plot the magnitude spectrum\n",
    "    if log:\n",
    "        # plt.magnitude_spectrum(signal, Fs=sample_rate,scale='dB', alpha=0.5, label=label)\n",
    "        plt.magnitude_spectrum(freqs, Fs=sample_rate, scale='dB', alpha=0.5, label=label)\n",
    "    plt.title('FFT Plot')\n",
    "    # plt.xlim(0,5000)\n",
    "    # plt.ylim(-140,-40)\n",
    "    if label!='':\n",
    "        plt.legend()\n",
    "    if show:\n",
    "        plt.show()\n",
    "    "
   ]
  },
  {
   "cell_type": "code",
   "execution_count": 99,
   "metadata": {},
   "outputs": [],
   "source": [
    "# net = densenet121(spatial_dims =1, in_channels=1, out_channels=2, module='SCM12')\n",
    "# net"
   ]
  },
  {
   "cell_type": "code",
   "execution_count": 100,
   "metadata": {},
   "outputs": [],
   "source": [
    "# net = resnet34(n_input_channels=1, spatial_dims=1, module='SCM12')"
   ]
  },
  {
   "cell_type": "code",
   "execution_count": 101,
   "metadata": {},
   "outputs": [],
   "source": [
    "# net = EfficientNetBNFeatures(in_channels=1, model_name = 'efficientnet-b0', spatial_dims=1, module='SESCM12')\n"
   ]
  },
  {
   "cell_type": "code",
   "execution_count": 102,
   "metadata": {},
   "outputs": [],
   "source": [
    "# weight['state_dict']"
   ]
  },
  {
   "cell_type": "code",
   "execution_count": null,
   "metadata": {},
   "outputs": [],
   "source": []
  },
  {
   "cell_type": "code",
   "execution_count": 103,
   "metadata": {},
   "outputs": [],
   "source": [
    "# net = UNet(spatial_dims =1, modelName= 'densenet121', in_channels=1, out_channels=2, encModule='SETFCAM32_11')\n",
    "# net = UNet(spatial_dims =1, modelName= 'basic', in_channels=1, out_channels=2, encModule='TFCAM8_6')\n",
    "\n",
    "# weight = torch.load('exp_20230410/encModuleTFCAM8_6_dataNormzscoreO_modelNamebasic_decModuleNONE_segheadModuleNONE/weight/best_val_loss.ckpt')\n",
    "# net.load_state_dict(weight['state_dict'])\n",
    "# # net = UNet(spatial_dims =1, modelName= 'resnet34', in_channels=1, out_channels=2, encModule='SETFCAM32_11')"
   ]
  },
  {
   "cell_type": "code",
   "execution_count": 113,
   "metadata": {},
   "outputs": [
    {
     "name": "stdout",
     "output_type": "stream",
     "text": [
      "saving path : exp_20230410/dataNormzscoreO_modelNamebasic_encModuleSCM11_decModuleNONE_segheadModuleNONE/\n",
      "UNET encoder is basic\n",
      "[64, 128, 256, 512, 512]\n",
      "U-NET encModule is SCM11\n",
      "U-NET mtl is NONE\n",
      "U-NET decModule is NONE\n",
      "U-NET supervision is NONE\n",
      "U-NET segheadModule is NONE\n",
      "saving path : exp_20230410/encModuleTFCAM8_11_dataNormzscoreO_modelNamebasic_decModuleNONE_segheadModuleNONE/\n",
      "UNET encoder is basic\n",
      "[64, 128, 256, 512, 512]\n",
      "U-NET encModule is TFCAM8_11\n",
      "U-NET mtl is NONE\n",
      "U-NET decModule is NONE\n",
      "U-NET supervision is NONE\n",
      "U-NET segheadModule is NONE\n"
     ]
    }
   ],
   "source": [
    "config_defaults = dict(\n",
    "    dataNorm ='zscoreO', # zscoreI, zscoreO, minmaxI\n",
    "    modelName='basic', # 'efficientnet-b0', 'efficientnet-b1', 'efficientnet-b2', 'resnet34', 'densenet169', 'U2NET','U2NETP', 'basis'\n",
    "    encModule = \"SCM11\", # \"SE_BOTTOM5\"\n",
    "    decModule = \"NONE\", # \"SE_BOTTOM5\"\n",
    "    segheadModule = \"NONE\",\n",
    "    \n",
    "    project = 'PVC-NET',  ########################## this is cutoff line of path_logRoot ##############################\n",
    "\n",
    "    dataSeed = 1, # split seed\n",
    "    srTarget = 250, # \n",
    "    featureLength = 1280,\n",
    "    sampler = True, # True, False\n",
    "    inChannels = 1,\n",
    "    outChannels = 2,\n",
    "\n",
    "    norm = 'instance', # 'instance', 'batch', 'group', 'layer'\n",
    "    upsample = 'deconv', #'pixelshuffle', # 'nontrainable', 'deconv'\n",
    "    supervision = \"NONE\", #'NONE', 'TYPE1', 'TYPE2'\n",
    "    dropout = 0.1,\n",
    "    mtl = 'NONE', # 'NONE', 'CLS, 'REC', 'ALL_avg', 'ALL_max'\n",
    "    trainaug = 'NEUROKIT2',\n",
    "\n",
    "    path_logRoot = 'exp_20230410',\n",
    "    spatial_dims = 1,\n",
    "    learning_rate = 1e-3,\n",
    "    batch_size = 512, # 256\n",
    "    thresholdRPeak = 0.7,\n",
    "    lossFn = 'BCE',\n",
    ")\n",
    "\n",
    "from main import *\n",
    "# path = 'exp_20230410/encModuleTFCAM8_6_dataNormzscoreO_modelNamebasic_decModuleNONE_segheadModuleNONE/weight/best_val_loss.ckpt'\n",
    "# path = 'exp_20230410/encModuleTFCAM8_11_dataNormzscoreO_modelNamebasic_decModuleNONE_segheadModuleNONE/weight/best_val_loss.ckpt'\n",
    "# path = 'exp_20230403/encModuleTFCAM8_6_dataNormzscoreO_modelNamebasic_decModuleNONE_segheadModuleNONE/weight/best_val_loss-v1.ckpt'\n",
    "path = 'exp_20230410/encModuleTFCAM8_11_dataNormzscoreO_modelNamebasic_decModuleNONE_segheadModuleNONE/weight/best_val_loss.ckpt'\n",
    "\n",
    "net = PVC_NET(config_defaults).load_from_checkpoint(path,strict=True)\n"
   ]
  },
  {
   "cell_type": "code",
   "execution_count": 114,
   "metadata": {},
   "outputs": [],
   "source": [
    "# net.net.down_1.att.add_mod.return_weight = True\n",
    "# net.net.down_2.att.add_mod.return_weight = True\n",
    "# net.net.down_3.att.add_mod.return_weight = True\n",
    "# net.net.down_4.att.add_mod.return_weight = True\n",
    "net.net.down_5.att.add_mod.return_weight = True\n"
   ]
  },
  {
   "cell_type": "code",
   "execution_count": 115,
   "metadata": {},
   "outputs": [],
   "source": [
    "# net.down_5.att.add_mod.return_weight = True"
   ]
  },
  {
   "cell_type": "code",
   "execution_count": 116,
   "metadata": {},
   "outputs": [],
   "source": [
    "featureLength = 1280\n",
    "srTarget = 250\n",
    "classes = 2\n",
    "dataNorm = 'zscore'\n",
    "batch_size = 8\n",
    "\n",
    "test_dataset = MIT_DATASET(test_data,featureLength, srTarget, classes, dataNorm, False)\n",
    "test_loader = DataLoader(test_dataset, batch_size = batch_size, shuffle = False, num_workers=1, pin_memory=True)\n",
    "\n",
    "iterator = iter(test_loader)"
   ]
  },
  {
   "cell_type": "code",
   "execution_count": 117,
   "metadata": {},
   "outputs": [
    {
     "data": {
      "text/plain": [
       "(torch.Size([8, 1, 4514]),\n",
       " tensor([[0],\n",
       "         [0],\n",
       "         [0],\n",
       "         [0],\n",
       "         [0],\n",
       "         [1],\n",
       "         [1],\n",
       "         [1]]))"
      ]
     },
     "execution_count": 117,
     "metadata": {},
     "output_type": "execute_result"
    }
   ],
   "source": [
    "batch = iterator.next()\n",
    "x = batch['signal']\n",
    "y_seg = batch['y_seg']\n",
    "y_PVC_seg = batch['y_PVC_seg']\n",
    "y = batch['y_PVC']\n",
    "x.shape, y"
   ]
  },
  {
   "cell_type": "code",
   "execution_count": 118,
   "metadata": {},
   "outputs": [],
   "source": [
    "# for i in range(len(x)):\n",
    "#     plt.plot(x[i,0])\n",
    "#     # plt.plot(y_seg[i,0],alpha=0.5)\n",
    "#     plt.plot(y_seg[i,1],alpha=0.5)\n",
    "#     plt.plot(y_PVC_seg[i,0])\n",
    "#     plt.title(y[i])\n",
    "#     plt.show()"
   ]
  },
  {
   "cell_type": "code",
   "execution_count": 119,
   "metadata": {},
   "outputs": [
    {
     "data": {
      "image/png": "[encoded data removed]",
      "text/plain": [
       "<Figure size 432x288 with 1 Axes>"
      ]
     },
     "metadata": {
      "needs_background": "light"
     },
     "output_type": "display_data"
    }
   ],
   "source": [
    "\n",
    "a = draw_fft_plot(x_[0,0],250)\n",
    "a"
   ]
  },
  {
   "cell_type": "code",
   "execution_count": 111,
   "metadata": {},
   "outputs": [
    {
     "name": "stdout",
     "output_type": "stream",
     "text": [
      "torch.Size([8, 1, 4514]) torch.Size([1, 1, 1280]) torch.Size([8, 2, 4514]) torch.Size([1, 2, 1280]) tensor([1])\n"
     ]
    },
    {
     "data": {
      "image/png": "[encoded data removed]",
      "text/plain": [
       "<Figure size 950.4x288 with 2 Axes>"
      ]
     },
     "metadata": {
      "needs_background": "light"
     },
     "output_type": "display_data"
    },
    {
     "data": {
      "image/png": "[encoded data removed]",
      "text/plain": [
       "<Figure size 432x288 with 1 Axes>"
      ]
     },
     "metadata": {
      "needs_background": "light"
     },
     "output_type": "display_data"
    },
    {
     "data": {
      "image/png": "[encoded data removed]",
      "text/plain": [
       "<Figure size 432x288 with 2 Axes>"
      ]
     },
     "metadata": {
      "needs_background": "light"
     },
     "output_type": "display_data"
    }
   ],
   "source": [
    "# x = torch.rand(1,1,1280)\n",
    "idx = 5\n",
    "start = 1000\n",
    "end = start + 1280\n",
    "\n",
    "x_ = x[idx:idx+1,:,start:end]\n",
    "y_seg_ = y_seg[idx:idx+1,:,start:end]\n",
    "print(x.shape,x_.shape, y_seg.shape, y_seg_.shape, y[idx])\n",
    "\n",
    "plt.figure(figsize=(13.2,4))\n",
    "plt.subplot(121)\n",
    "plt.title('time domain')\n",
    "plt.plot(x_[0,0])\n",
    "plt.axis('off')\n",
    "\n",
    "plt.subplot(122)\n",
    "draw_fft_plot(x_[0,0],250)\n",
    "plt.xlim(0,200)\n",
    "plt.axis('off')\n",
    "plt.show()\n",
    "\n",
    "# plt.title('frequency domain')\n",
    "# plt.subplot(121)\n",
    "# plt.plot(x_[0,0])\n",
    "\n",
    "# plt.subplot(122)\n",
    "# draw_fft_plot(x_[0,0],250)\n",
    "# plt.show()\n",
    "\n",
    "plt.plot(x_[0,0])\n",
    "plt.plot(y_seg_[0,1])\n",
    "plt.axis('off')\n",
    "plt.show()\n",
    "\n",
    "yhat = net(x_)\n",
    "# plt.plot(yhat[0,1].detach().numpy() )\n"
   ]
  },
  {
   "cell_type": "code",
   "execution_count": 60,
   "metadata": {},
   "outputs": [
    {
     "name": "stdout",
     "output_type": "stream",
     "text": [
      "torch.Size([2, 1280])\n"
     ]
    }
   ],
   "source": [
    "for yh in yhat:\n",
    "    print(yh.shape)"
   ]
  },
  {
   "cell_type": "code",
   "execution_count": null,
   "metadata": {},
   "outputs": [],
   "source": []
  },
  {
   "cell_type": "code",
   "execution_count": null,
   "metadata": {},
   "outputs": [],
   "source": []
  }
 ],
 "metadata": {
  "kernelspec": {
   "display_name": "Python 3",
   "language": "python",
   "name": "python3"
  },
  "language_info": {
   "codemirror_mode": {
    "name": "ipython",
    "version": 3
   },
   "file_extension": ".py",
   "mimetype": "text/x-python",
   "name": "python",
   "nbconvert_exporter": "python",
   "pygments_lexer": "ipython3",
   "version": "3.9.13"
  },
  "orig_nbformat": 4,
  "vscode": {
   "interpreter": {
    "hash": "f9f85f796d01129d0dd105a088854619f454435301f6ffec2fea96ecbd9be4ac"
   }
  }
 },
 "nbformat": 4,
 "nbformat_minor": 2
}
