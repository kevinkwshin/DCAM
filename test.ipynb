{
 "cells": [
  {
   "cell_type": "code",
   "execution_count": null,
   "metadata": {},
   "outputs": [],
   "source": [
    "from data import *\n",
    "from utils import *\n",
    "import pandas as pd\n",
    "import pygwalker as pyg\n",
    "\n",
    "import neurokit2 as nk\n",
    "\n",
    "train_data = np.load('/workspace/signal/PVC-NET_/dataset//mit-bih-arrhythmia-database-1.0.0_train_20230216.npy',allow_pickle=True) # B x (C) x Signal\n",
    "valid_data = np.load('/workspace/signal/PVC-NET_/dataset/mit-bih-arrhythmia-database-1.0.0_valid_20230216.npy',allow_pickle=True) # B x (C) x Signal\n",
    "test_data = np.load('/workspace/signal/PVC-NET_/dataset/mit-bih-arrhythmia-database-1.0.0_test_20230216.npy',allow_pickle=True) # B x (C) x Signal\n",
    "\n",
    "AMC_data  = np.load('/workspace/signal/PVC-NET_/dataset/AMC_PeakLabel_3rd_125Hz.npy',allow_pickle=True) # 497 samples\n",
    "CPSC2020_data  = np.load('/workspace/signal/PVC-NET_/dataset/CPSC2020_testSeg_ver2.npy',allow_pickle=True)\n",
    "CU_data  = np.load('/workspace/signal/PVC-NET_/dataset/cu-ventricular-tachyarrhythmia-database-1.0.0_testSeg.npy',allow_pickle=True)\n",
    "ESC_data  = np.load('/workspace/signal/PVC-NET_/dataset/european-st-t-database-1.0.0_testSeg.npy',allow_pickle=True)\n",
    "FANTASIA_data = np.load('/workspace/signal/PVC-NET_/dataset/fantasia-database-1.0.0_testSeg.npy', allow_pickle=True) # B x (C) x Signal\n",
    "INCART_data  = np.load('/workspace/signal/PVC-NET_/dataset/INCART_testSeg.npy',allow_pickle=True)\n",
    "NS_data = np.load('/workspace/signal/PVC-NET_/dataset/mit-bih-noise-stress-test-database-1.0.0_testSeg.npy',allow_pickle=True)\n",
    "STDB_data = np.load('/workspace/signal/PVC-NET_/dataset/mit-bih-st-change-database-1.0.0_testSeg.npy',allow_pickle=True)\n",
    "SVDB_data = np.load('/workspace/signal/PVC-NET_/dataset/mit-bih-supraventricular-arrhythmia-database-1.0.0_testSeg.npy',allow_pickle=True)"
   ]
  },
  {
   "cell_type": "code",
   "execution_count": null,
   "metadata": {},
   "outputs": [],
   "source": [
    "df = pd.read_csv(, parse_dates=['date'])\n",
    "gwalker = pyg.walk(df)"
   ]
  },
  {
   "cell_type": "code",
   "execution_count": null,
   "metadata": {},
   "outputs": [],
   "source": [
    "trainvalid_data = np.concatenate((train_data, valid_data))\n",
    "np.save('mit-bih-arrhythmia-database-1.0.0_trainvalid_2023.npy',)"
   ]
  },
  {
   "cell_type": "code",
   "execution_count": null,
   "metadata": {},
   "outputs": [],
   "source": [
    "len(train_data), len(valid_data), len(test_data), len(trainvalid_data)"
   ]
  },
  {
   "cell_type": "code",
   "execution_count": null,
   "metadata": {},
   "outputs": [],
   "source": [
    "train_data = np.concatenate((train_data,STDB_data))\n",
    "len(train_data)"
   ]
  },
  {
   "cell_type": "code",
   "execution_count": null,
   "metadata": {},
   "outputs": [],
   "source": [
    "# data = FANTASIA_data\n",
    "data = CU_data\n",
    "\n",
    "print(len(data))\n",
    "for i in range(len(data)):\n",
    "    if len(data[i]['symbol_PVC'])!=0:\n",
    "        print(i,data[i]['symbol_PVC'])"
   ]
  },
  {
   "cell_type": "code",
   "execution_count": null,
   "metadata": {},
   "outputs": [],
   "source": [
    "!pip install monai==1.0.0"
   ]
  },
  {
   "cell_type": "code",
   "execution_count": null,
   "metadata": {},
   "outputs": [],
   "source": [
    "import monai\n",
    "monai.__version__"
   ]
  },
  {
   "cell_type": "code",
   "execution_count": null,
   "metadata": {},
   "outputs": [],
   "source": [
    "import torch\n",
    "import models\n",
    "from models.resnet import *\n",
    "from models.efficientnet import *\n",
    "from models.ffc import *"
   ]
  },
  {
   "cell_type": "code",
   "execution_count": null,
   "metadata": {},
   "outputs": [],
   "source": [
    "# net = resnet34(n_input_channels=1, spatial_dims=1, module='acm')\n",
    "# net = resnet34(n_input_channels=1, spatial_dims=1, module='cbam')\n",
    "# net = resnet34(n_input_channels=1, spatial_dims=1, module='deeprft')\n",
    "# net = resnet34(n_input_channels=1, spatial_dims=1, module='ffc')\n",
    "# net = resnet34(n_input_channels=1, spatial_dims=1, module='mha')\n",
    "# net = resnet34(n_input_channels=1, spatial_dims=1, module='nlnn')\n",
    "# net = resnet34(n_input_channels=1, spatial_dims=1, module='se')\n",
    "net = resnet34(n_input_channels=1, spatial_dims=1, module='SCM9')"
   ]
  },
  {
   "cell_type": "code",
   "execution_count": null,
   "metadata": {},
   "outputs": [],
   "source": [
    "# net = EfficientNetBNFeatures(model_name = 'efficientnet-b0', spatial_dims=1,module='acm')\n",
    "# net = EfficientNetBNFeatures(model_name = 'efficientnet-b0', spatial_dims=1,module='cbam')\n",
    "# net = EfficientNetBNFeatures(model_name = 'efficientnet-b0', spatial_dims=1,module='deeprft')\n",
    "# net = EfficientNetBNFeatures(in_channels=1, model_name = 'efficientnet-b0', spatial_dims=1, module='ffc')\n",
    "# net = EfficientNetBNFeatures(model_name = 'efficientnet-b0', spatial_dims=1,module='nlnn')\n",
    "net = EfficientNetBNFeatures(in_channels=1, model_name = 'efficientnet-b0', spatial_dims=1, module='SCM')\n"
   ]
  },
  {
   "cell_type": "code",
   "execution_count": null,
   "metadata": {},
   "outputs": [],
   "source": [
    "x = torch.rand(1,1,1280)\n",
    "yhat = net(x)"
   ]
  },
  {
   "cell_type": "code",
   "execution_count": null,
   "metadata": {},
   "outputs": [],
   "source": [
    "for yh in yhat:\n",
    "    print(yh.shape)"
   ]
  },
  {
   "cell_type": "code",
   "execution_count": null,
   "metadata": {},
   "outputs": [],
   "source": [
    "net"
   ]
  },
  {
   "cell_type": "code",
   "execution_count": null,
   "metadata": {},
   "outputs": [],
   "source": [
    "# def count_twos(n):\n",
    "#     count = 0\n",
    "#     while n % 2 == 0:\n",
    "#         count += 1\n",
    "#         n = n // 2\n",
    "\n",
    "#     if count >= 3:\n",
    "#         return 2**3    \n",
    "#     else:\n",
    "#         return 0\n",
    "\n",
    "# a = count_twos(32)\n",
    "# a"
   ]
  },
  {
   "cell_type": "code",
   "execution_count": null,
   "metadata": {},
   "outputs": [],
   "source": []
  }
 ],
 "metadata": {
  "kernelspec": {
   "display_name": "Python 3",
   "language": "python",
   "name": "python3"
  },
  "language_info": {
   "codemirror_mode": {
    "name": "ipython",
    "version": 3
   },
   "file_extension": ".py",
   "mimetype": "text/x-python",
   "name": "python",
   "nbconvert_exporter": "python",
   "pygments_lexer": "ipython3",
   "version": "3.9.13"
  },
  "orig_nbformat": 4,
  "vscode": {
   "interpreter": {
    "hash": "f9f85f796d01129d0dd105a088854619f454435301f6ffec2fea96ecbd9be4ac"
   }
  }
 },
 "nbformat": 4,
 "nbformat_minor": 2
}
