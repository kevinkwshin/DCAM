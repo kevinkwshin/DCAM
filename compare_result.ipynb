{
 "cells": [
  {
   "cell_type": "code",
   "execution_count": 5,
   "metadata": {},
   "outputs": [
    {
     "name": "stdout",
     "output_type": "stream",
     "text": [
      "2023-04-11 06:39:24,671 - Bagua cannot detect bundled NCCL library, Bagua will try to use system NCCL instead. If you encounter any error, please run `import bagua_core; bagua_core.install_deps()` or the `bagua_install_deps.py` script to install bundled libraries.\n"
     ]
    }
   ],
   "source": [
    "# path = 'exp_20230410/encModuleTFCAM8_11_dataNormzscoreO_modelNamebasic_decModuleNONE_segheadModuleNONE/weight/best_val_loss.ckpt'\n",
    "path = 'exp_20230410/encModuleNONE_dataNormzscoreO_modelNamebasic_decModuleNONE_segheadModuleNONE/weight/best_val_loss.ckpt'\n",
    "path = 'exp_20230410/encModuleSETFCAM8_11_dataNormzscoreO_modelNamebasic_decModuleNONE_segheadModuleNONE/weight/best_val_loss.ckpt'\n",
    "\n",
    "!python test.py --ckpt_path {path}\n"
   ]
  },
  {
   "cell_type": "code",
   "execution_count": null,
   "metadata": {},
   "outputs": [],
   "source": [
    "import glob\n",
    "import natsort\n",
    "import pylab as plt\n",
    "import numpy as np\n",
    "import cv2"
   ]
  },
  {
   "cell_type": "code",
   "execution_count": null,
   "metadata": {},
   "outputs": [],
   "source": [
    "path1 = 'exp_20230410/encModuleTFCAM8_11_dataNormzscoreO_modelNamebasic_decModuleNONE_segheadModuleNONE/result/'\n",
    "path2 = 'exp_20230410/encModuleNONE_dataNormzscoreO_modelNamebasic_decModuleNONE_segheadModuleNONE/result/'"
   ]
  },
  {
   "cell_type": "code",
   "execution_count": null,
   "metadata": {},
   "outputs": [],
   "source": [
    "dataset = 'AMC'\n",
    "glob.glob(path1+f'*{dataset}*/*')"
   ]
  },
  {
   "cell_type": "code",
   "execution_count": null,
   "metadata": {},
   "outputs": [],
   "source": [
    "fname = 'Noise'\n",
    "files1 = natsort.natsorted(glob.glob(path1+f'*{dataset}*/*{fname}*'))\n",
    "files2 = natsort.natsorted(glob.glob(path2+f'*{dataset}*/*{fname}*'))\n",
    "len(files1),len(files2)"
   ]
  },
  {
   "cell_type": "code",
   "execution_count": null,
   "metadata": {},
   "outputs": [],
   "source": [
    "for idx in range(len(files1)):\n",
    "    file1 = files1[idx]\n",
    "    file2 = files2[idx]\n",
    "    \n",
    "    img1 = cv2.imread(file1)\n",
    "    img2 = cv2.imread(file2)\n",
    "    plt.figure(figsize=(24,12))\n",
    "    plt.subplot(121)\n",
    "    plt.imshow(img1)\n",
    "    plt.title(file1)\n",
    "    plt.subplot(122)\n",
    "    plt.imshow(img2)\n",
    "    plt.title(file2)\n",
    "    plt.show()"
   ]
  },
  {
   "cell_type": "code",
   "execution_count": null,
   "metadata": {},
   "outputs": [],
   "source": []
  }
 ],
 "metadata": {
  "kernelspec": {
   "display_name": "Python 3",
   "language": "python",
   "name": "python3"
  },
  "language_info": {
   "codemirror_mode": {
    "name": "ipython",
    "version": 3
   },
   "file_extension": ".py",
   "mimetype": "text/x-python",
   "name": "python",
   "nbconvert_exporter": "python",
   "pygments_lexer": "ipython3",
   "version": "3.9.13"
  },
  "orig_nbformat": 4,
  "vscode": {
   "interpreter": {
    "hash": "f9f85f796d01129d0dd105a088854619f454435301f6ffec2fea96ecbd9be4ac"
   }
  }
 },
 "nbformat": 4,
 "nbformat_minor": 2
}
